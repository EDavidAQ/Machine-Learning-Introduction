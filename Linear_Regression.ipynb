{
 "cells": [
  {
   "cell_type": "code",
   "execution_count": 1,
   "metadata": {
    "collapsed": true
   },
   "outputs": [],
   "source": [
    "# Introducción a ML\n",
    "# Capacitador: David Allende Quintana\n",
    "# david.allende@outlook.com\n",
    "# Versión: 1.0"
   ]
  },
  {
   "cell_type": "markdown",
   "metadata": {},
   "source": [
    "# Linear Regression"
   ]
  },
  {
   "cell_type": "markdown",
   "metadata": {},
   "source": [
    "Librerías necesarias"
   ]
  },
  {
   "cell_type": "code",
   "execution_count": 2,
   "metadata": {
    "collapsed": false
   },
   "outputs": [],
   "source": [
    "%matplotlib inline\n",
    "import numpy as np\n",
    "import pandas as pd\n",
    "from scipy import stats\n",
    "import matplotlib.pyplot as plt\n",
    "from sklearn import linear_model,cross_validation, feature_selection,preprocessing\n",
    "import statsmodels.formula.api as sm\n",
    "from statsmodels.tools.eval_measures import mse\n",
    "from statsmodels.tools.tools import add_constant\n",
    "from sklearn.metrics import mean_squared_error"
   ]
  },
  {
   "cell_type": "markdown",
   "metadata": {},
   "source": [
    "## Simple Linear Regression"
   ]
  },
  {
   "cell_type": "markdown",
   "metadata": {},
   "source": [
    "Los datos a continuación contienen la altura y el peso de un grupo de hombres."
   ]
  },
  {
   "cell_type": "code",
   "execution_count": 3,
   "metadata": {
    "collapsed": false
   },
   "outputs": [],
   "source": [
    "sl_data = pd.read_csv('Data/Mens_height_weight.csv')"
   ]
  },
  {
   "cell_type": "markdown",
   "metadata": {},
   "source": [
    "Veamos un gráfico de dispersión y entendamos la relación entre ellos."
   ]
  },
  {
   "cell_type": "code",
   "execution_count": 4,
   "metadata": {
    "collapsed": false
   },
   "outputs": [
    {
     "data": {
      "image/png": "[encoded data removed]",
      "text/plain": [
       "<matplotlib.figure.Figure at 0xafc0e48>"
      ]
     },
     "metadata": {},
     "output_type": "display_data"
    }
   ],
   "source": [
    "fig, ax = plt.subplots(1, 1)  \n",
    "ax.scatter(sl_data['Height'],sl_data['Weight'])\n",
    "ax.set_xlabel('Height')\n",
    "ax.set_ylabel('Weight')\n",
    "plt.show()\n"
   ]
  },
  {
   "cell_type": "code",
   "execution_count": 5,
   "metadata": {
    "collapsed": false
   },
   "outputs": [
    {
     "data": {
      "text/html": [
       "<div>\n",
       "<table border=\"1\" class=\"dataframe\">\n",
       "  <thead>\n",
       "    <tr style=\"text-align: right;\">\n",
       "      <th></th>\n",
       "      <th>Height</th>\n",
       "      <th>Weight</th>\n",
       "    </tr>\n",
       "  </thead>\n",
       "  <tbody>\n",
       "    <tr>\n",
       "      <th>Height</th>\n",
       "      <td>1.000000</td>\n",
       "      <td>0.942603</td>\n",
       "    </tr>\n",
       "    <tr>\n",
       "      <th>Weight</th>\n",
       "      <td>0.942603</td>\n",
       "      <td>1.000000</td>\n",
       "    </tr>\n",
       "  </tbody>\n",
       "</table>\n",
       "</div>"
      ],
      "text/plain": [
       "          Height    Weight\n",
       "Height  1.000000  0.942603\n",
       "Weight  0.942603  1.000000"
      ]
     },
     "execution_count": 5,
     "metadata": {},
     "output_type": "execute_result"
    }
   ],
   "source": [
    "sl_data.corr()"
   ]
  },
  {
   "cell_type": "markdown",
   "metadata": {},
   "source": [
    "Peso = Variable Dependiente.\n",
    "\n",
    "Altura = Variable Independiente."
   ]
  },
  {
   "cell_type": "code",
   "execution_count": 14,
   "metadata": {
    "collapsed": false
   },
   "outputs": [
    {
     "data": {
      "text/plain": [
       "'Height'"
      ]
     },
     "execution_count": 14,
     "metadata": {},
     "output_type": "execute_result"
    }
   ],
   "source": [
    "sl_data.columns[0]"
   ]
  },
  {
   "cell_type": "code",
   "execution_count": 12,
   "metadata": {
    "collapsed": false
   },
   "outputs": [
    {
     "data": {
      "text/plain": [
       "array([ 1.00092142])"
      ]
     },
     "execution_count": 12,
     "metadata": {},
     "output_type": "execute_result"
    }
   ],
   "source": [
    "lm.coef_"
   ]
  },
  {
   "cell_type": "code",
   "execution_count": 17,
   "metadata": {
    "collapsed": false
   },
   "outputs": [
    {
     "name": "stdout",
     "output_type": "stream",
     "text": [
      "El intercepto es -99.2772096063\n",
      "\n",
      "El coeficiente de la Altura [ 1.00092142]\n",
      "\n"
     ]
    }
   ],
   "source": [
    "# Create linear regression object\n",
    "lm = linear_model.LinearRegression()\n",
    "\n",
    "# Train the model using the training sets\n",
    "lm.fit(sl_data.Height[:,np.newaxis], sl_data.Weight)\n",
    "\n",
    "\n",
    "print ('El intercepto es ' + str(lm.intercept_) + '\\n')\n",
    "\n",
    "print ('El coeficiente de la Altura ' + str(lm.coef_) + '\\n')\n",
    "\n",
    "#pd.DataFrame(zip(sl_data.columns,lm.coef_), columns = ['features', 'estimatedCoefficients'])\n",
    "\n"
   ]
  },
  {
   "cell_type": "markdown",
   "metadata": {},
   "source": [
    "Plotting the regression line on the previous scatter plot"
   ]
  },
  {
   "cell_type": "code",
   "execution_count": 18,
   "metadata": {
    "collapsed": false
   },
   "outputs": [
    {
     "data": {
      "image/png": "[encoded data removed]",
      "text/plain": [
       "<matplotlib.figure.Figure at 0xb5326a0>"
      ]
     },
     "metadata": {},
     "output_type": "display_data"
    }
   ],
   "source": [
    "fig, ax = plt.subplots(1, 1)  \n",
    "ax.scatter(sl_data.Height,sl_data.Weight)\n",
    "ax.plot(sl_data.Height,lm.predict(sl_data.Height[:, np.newaxis]), color = 'red')\n",
    "ax.set_xlabel('Height')\n",
    "ax.set_ylabel('Weight')\n",
    "plt.show()\n"
   ]
  },
  {
   "cell_type": "markdown",
   "metadata": {},
   "source": [
    "## Multiple Regression"
   ]
  },
  {
   "cell_type": "markdown",
   "metadata": {},
   "source": [
    "Los datos de los jugadores de la NBA.\n",
    "\n",
    "1. height = Altura de los jugadores\n",
    "2. weight = Peso de los jugadores\n",
    "3. success_field_goals = Porcentaje de los partidos exitosos\n",
    "4. success_free_throws = Porcentaje de tiros libres exitosos\n",
    "5. avg_points_scored = promedio de puntos por partido"
   ]
  },
  {
   "cell_type": "code",
   "execution_count": 19,
   "metadata": {
    "collapsed": false
   },
   "outputs": [
    {
     "data": {
      "text/html": [
       "<div>\n",
       "<table border=\"1\" class=\"dataframe\">\n",
       "  <thead>\n",
       "    <tr style=\"text-align: right;\">\n",
       "      <th></th>\n",
       "      <th>height</th>\n",
       "      <th>weight</th>\n",
       "      <th>success_field_goals</th>\n",
       "      <th>success_free_throws</th>\n",
       "      <th>avg_points_scored</th>\n",
       "    </tr>\n",
       "  </thead>\n",
       "  <tbody>\n",
       "    <tr>\n",
       "      <th>count</th>\n",
       "      <td>54.000000</td>\n",
       "      <td>54.000000</td>\n",
       "      <td>54.000000</td>\n",
       "      <td>54.000000</td>\n",
       "      <td>54.000000</td>\n",
       "    </tr>\n",
       "    <tr>\n",
       "      <th>mean</th>\n",
       "      <td>6.587037</td>\n",
       "      <td>209.907407</td>\n",
       "      <td>0.449111</td>\n",
       "      <td>0.741852</td>\n",
       "      <td>11.790741</td>\n",
       "    </tr>\n",
       "    <tr>\n",
       "      <th>std</th>\n",
       "      <td>0.458894</td>\n",
       "      <td>30.265036</td>\n",
       "      <td>0.056551</td>\n",
       "      <td>0.100146</td>\n",
       "      <td>5.899257</td>\n",
       "    </tr>\n",
       "    <tr>\n",
       "      <th>min</th>\n",
       "      <td>5.700000</td>\n",
       "      <td>105.000000</td>\n",
       "      <td>0.291000</td>\n",
       "      <td>0.244000</td>\n",
       "      <td>2.800000</td>\n",
       "    </tr>\n",
       "    <tr>\n",
       "      <th>25%</th>\n",
       "      <td>6.225000</td>\n",
       "      <td>185.000000</td>\n",
       "      <td>0.415250</td>\n",
       "      <td>0.713000</td>\n",
       "      <td>8.150000</td>\n",
       "    </tr>\n",
       "    <tr>\n",
       "      <th>50%</th>\n",
       "      <td>6.650000</td>\n",
       "      <td>212.500000</td>\n",
       "      <td>0.443500</td>\n",
       "      <td>0.753500</td>\n",
       "      <td>10.750000</td>\n",
       "    </tr>\n",
       "    <tr>\n",
       "      <th>75%</th>\n",
       "      <td>6.900000</td>\n",
       "      <td>235.000000</td>\n",
       "      <td>0.483500</td>\n",
       "      <td>0.795250</td>\n",
       "      <td>13.600000</td>\n",
       "    </tr>\n",
       "    <tr>\n",
       "      <th>max</th>\n",
       "      <td>7.600000</td>\n",
       "      <td>263.000000</td>\n",
       "      <td>0.599000</td>\n",
       "      <td>0.900000</td>\n",
       "      <td>27.400000</td>\n",
       "    </tr>\n",
       "  </tbody>\n",
       "</table>\n",
       "</div>"
      ],
      "text/plain": [
       "          height      weight  success_field_goals  success_free_throws  \\\n",
       "count  54.000000   54.000000            54.000000            54.000000   \n",
       "mean    6.587037  209.907407             0.449111             0.741852   \n",
       "std     0.458894   30.265036             0.056551             0.100146   \n",
       "min     5.700000  105.000000             0.291000             0.244000   \n",
       "25%     6.225000  185.000000             0.415250             0.713000   \n",
       "50%     6.650000  212.500000             0.443500             0.753500   \n",
       "75%     6.900000  235.000000             0.483500             0.795250   \n",
       "max     7.600000  263.000000             0.599000             0.900000   \n",
       "\n",
       "       avg_points_scored  \n",
       "count          54.000000  \n",
       "mean           11.790741  \n",
       "std             5.899257  \n",
       "min             2.800000  \n",
       "25%             8.150000  \n",
       "50%            10.750000  \n",
       "75%            13.600000  \n",
       "max            27.400000  "
      ]
     },
     "execution_count": 19,
     "metadata": {},
     "output_type": "execute_result"
    }
   ],
   "source": [
    "b_data = pd.read_csv('Data/basketball.csv')\n",
    "\n",
    "b_data.describe()"
   ]
  },
  {
   "cell_type": "code",
   "execution_count": 21,
   "metadata": {
    "collapsed": false
   },
   "outputs": [
    {
     "data": {
      "text/plain": [
       "height               weight                 0.834324\n",
       "                     success_field_goals    0.495546\n",
       "                     success_free_throws   -0.259271\n",
       "                     avg_points_scored     -0.068906\n",
       "weight               height                 0.834324\n",
       "                     success_field_goals    0.516051\n",
       "                     success_free_throws   -0.290159\n",
       "                     avg_points_scored     -0.009844\n",
       "success_field_goals  height                 0.495546\n",
       "                     weight                 0.516051\n",
       "                     success_free_throws   -0.018570\n",
       "                     avg_points_scored      0.338760\n",
       "success_free_throws  height                -0.259271\n",
       "                     weight                -0.290159\n",
       "                     success_field_goals   -0.018570\n",
       "                     avg_points_scored      0.244852\n",
       "avg_points_scored    height                -0.068906\n",
       "                     weight                -0.009844\n",
       "                     success_field_goals    0.338760\n",
       "                     success_free_throws    0.244852\n",
       "dtype: float64"
      ]
     },
     "execution_count": 21,
     "metadata": {},
     "output_type": "execute_result"
    }
   ],
   "source": [
    "df_corr = b_data.corr().unstack()\n",
    "df_corr = df_corr[df_corr<1]\n",
    "df_corr.sort_values(ascending=False)\n",
    "df_corr"
   ]
  },
  {
   "cell_type": "markdown",
   "metadata": {},
   "source": [
    "Veamos la relación de la variable dependiente (promedio de puntos por partido) con las otras variables explicativas."
   ]
  },
  {
   "cell_type": "code",
   "execution_count": 22,
   "metadata": {
    "collapsed": false
   },
   "outputs": [
    {
     "data": {
      "image/png": "[encoded data removed]",
      "text/plain": [
       "<matplotlib.figure.Figure at 0xb1c45f8>"
      ]
     },
     "metadata": {},
     "output_type": "display_data"
    },
    {
     "data": {
      "image/png": "[encoded data removed]",
      "text/plain": [
       "<matplotlib.figure.Figure at 0xbdcdcf8>"
      ]
     },
     "metadata": {},
     "output_type": "display_data"
    },
    {
     "data": {
      "image/png": "[encoded data removed]",
      "text/plain": [
       "<matplotlib.figure.Figure at 0xbe30b38>"
      ]
     },
     "metadata": {},
     "output_type": "display_data"
    },
    {
     "data": {
      "image/png": "[encoded data removed]",
      "text/plain": [
       "<matplotlib.figure.Figure at 0xbe6cf60>"
      ]
     },
     "metadata": {},
     "output_type": "display_data"
    }
   ],
   "source": [
    "X_columns = b_data.columns[:-1]\n",
    "\n",
    "for i in X_columns:\n",
    "    fig, ax = plt.subplots(1, 1)  \n",
    "    ax.scatter(b_data[i], b_data.avg_points_scored)\n",
    "    ax.set_xlabel(i)\n",
    "    ax.set_ylabel('Average points scored per game')\n",
    "    plt.show()"
   ]
  },
  {
   "cell_type": "markdown",
   "metadata": {},
   "source": [
    "Matriz de correlaciones"
   ]
  },
  {
   "cell_type": "code",
   "execution_count": 23,
   "metadata": {
    "collapsed": false
   },
   "outputs": [
    {
     "data": {
      "text/html": [
       "<div>\n",
       "<table border=\"1\" class=\"dataframe\">\n",
       "  <thead>\n",
       "    <tr style=\"text-align: right;\">\n",
       "      <th></th>\n",
       "      <th>height</th>\n",
       "      <th>weight</th>\n",
       "      <th>success_field_goals</th>\n",
       "      <th>success_free_throws</th>\n",
       "      <th>avg_points_scored</th>\n",
       "    </tr>\n",
       "  </thead>\n",
       "  <tbody>\n",
       "    <tr>\n",
       "      <th>height</th>\n",
       "      <td>1.000000</td>\n",
       "      <td>0.834324</td>\n",
       "      <td>0.495546</td>\n",
       "      <td>-0.259271</td>\n",
       "      <td>-0.068906</td>\n",
       "    </tr>\n",
       "    <tr>\n",
       "      <th>weight</th>\n",
       "      <td>0.834324</td>\n",
       "      <td>1.000000</td>\n",
       "      <td>0.516051</td>\n",
       "      <td>-0.290159</td>\n",
       "      <td>-0.009844</td>\n",
       "    </tr>\n",
       "    <tr>\n",
       "      <th>success_field_goals</th>\n",
       "      <td>0.495546</td>\n",
       "      <td>0.516051</td>\n",
       "      <td>1.000000</td>\n",
       "      <td>-0.018570</td>\n",
       "      <td>0.338760</td>\n",
       "    </tr>\n",
       "    <tr>\n",
       "      <th>success_free_throws</th>\n",
       "      <td>-0.259271</td>\n",
       "      <td>-0.290159</td>\n",
       "      <td>-0.018570</td>\n",
       "      <td>1.000000</td>\n",
       "      <td>0.244852</td>\n",
       "    </tr>\n",
       "    <tr>\n",
       "      <th>avg_points_scored</th>\n",
       "      <td>-0.068906</td>\n",
       "      <td>-0.009844</td>\n",
       "      <td>0.338760</td>\n",
       "      <td>0.244852</td>\n",
       "      <td>1.000000</td>\n",
       "    </tr>\n",
       "  </tbody>\n",
       "</table>\n",
       "</div>"
      ],
      "text/plain": [
       "                       height    weight  success_field_goals  \\\n",
       "height               1.000000  0.834324             0.495546   \n",
       "weight               0.834324  1.000000             0.516051   \n",
       "success_field_goals  0.495546  0.516051             1.000000   \n",
       "success_free_throws -0.259271 -0.290159            -0.018570   \n",
       "avg_points_scored   -0.068906 -0.009844             0.338760   \n",
       "\n",
       "                     success_free_throws  avg_points_scored  \n",
       "height                         -0.259271          -0.068906  \n",
       "weight                         -0.290159          -0.009844  \n",
       "success_field_goals            -0.018570           0.338760  \n",
       "success_free_throws             1.000000           0.244852  \n",
       "avg_points_scored               0.244852           1.000000  "
      ]
     },
     "execution_count": 23,
     "metadata": {},
     "output_type": "execute_result"
    }
   ],
   "source": [
    "b_data.corr()"
   ]
  },
  {
   "cell_type": "markdown",
   "metadata": {},
   "source": [
    "Usaremos dos partes (entrenamiento y testeo)."
   ]
  },
  {
   "cell_type": "code",
   "execution_count": 24,
   "metadata": {
    "collapsed": false
   },
   "outputs": [],
   "source": [
    "X = b_data.values.copy() \n",
    "X_train, X_valid, y_train, y_valid = cross_validation.train_test_split( X[:, :-1], X[:, -1], train_size=0.80)"
   ]
  },
  {
   "cell_type": "markdown",
   "metadata": {},
   "source": [
    "Generamos un Modelo Lineal"
   ]
  },
  {
   "cell_type": "code",
   "execution_count": 25,
   "metadata": {
    "collapsed": false
   },
   "outputs": [
    {
     "data": {
      "text/html": [
       "<table class=\"simpletable\">\n",
       "<caption>OLS Regression Results</caption>\n",
       "<tr>\n",
       "  <th>Dep. Variable:</th>            <td>y</td>        <th>  R-squared:         </th> <td>   0.206</td>\n",
       "</tr>\n",
       "<tr>\n",
       "  <th>Model:</th>                   <td>OLS</td>       <th>  Adj. R-squared:    </th> <td>   0.123</td>\n",
       "</tr>\n",
       "<tr>\n",
       "  <th>Method:</th>             <td>Least Squares</td>  <th>  F-statistic:       </th> <td>   2.471</td>\n",
       "</tr>\n",
       "<tr>\n",
       "  <th>Date:</th>             <td>Thu, 02 Mar 2017</td> <th>  Prob (F-statistic):</th>  <td>0.0609</td> \n",
       "</tr>\n",
       "<tr>\n",
       "  <th>Time:</th>                 <td>14:19:10</td>     <th>  Log-Likelihood:    </th> <td> -131.31</td>\n",
       "</tr>\n",
       "<tr>\n",
       "  <th>No. Observations:</th>      <td>    43</td>      <th>  AIC:               </th> <td>   272.6</td>\n",
       "</tr>\n",
       "<tr>\n",
       "  <th>Df Residuals:</th>          <td>    38</td>      <th>  BIC:               </th> <td>   281.4</td>\n",
       "</tr>\n",
       "<tr>\n",
       "  <th>Df Model:</th>              <td>     4</td>      <th>                     </th>     <td> </td>   \n",
       "</tr>\n",
       "<tr>\n",
       "  <th>Covariance Type:</th>      <td>nonrobust</td>    <th>                     </th>     <td> </td>   \n",
       "</tr>\n",
       "</table>\n",
       "<table class=\"simpletable\">\n",
       "<tr>\n",
       "    <td></td>       <th>coef</th>     <th>std err</th>      <th>t</th>      <th>P>|t|</th> <th>[95.0% Conf. Int.]</th> \n",
       "</tr>\n",
       "<tr>\n",
       "  <th>const</th> <td>    7.6670</td> <td>   16.916</td> <td>    0.453</td> <td> 0.653</td> <td>  -26.577    41.911</td>\n",
       "</tr>\n",
       "<tr>\n",
       "  <th>x1</th>    <td>   -4.3364</td> <td>    4.133</td> <td>   -1.049</td> <td> 0.301</td> <td>  -12.704     4.031</td>\n",
       "</tr>\n",
       "<tr>\n",
       "  <th>x2</th>    <td>    0.0166</td> <td>    0.068</td> <td>    0.244</td> <td> 0.808</td> <td>   -0.121     0.155</td>\n",
       "</tr>\n",
       "<tr>\n",
       "  <th>x3</th>    <td>   53.8097</td> <td>   18.505</td> <td>    2.908</td> <td> 0.006</td> <td>   16.349    91.270</td>\n",
       "</tr>\n",
       "<tr>\n",
       "  <th>x4</th>    <td>    6.6614</td> <td>    8.788</td> <td>    0.758</td> <td> 0.453</td> <td>  -11.129    24.451</td>\n",
       "</tr>\n",
       "</table>\n",
       "<table class=\"simpletable\">\n",
       "<tr>\n",
       "  <th>Omnibus:</th>       <td> 7.548</td> <th>  Durbin-Watson:     </th> <td>   2.366</td>\n",
       "</tr>\n",
       "<tr>\n",
       "  <th>Prob(Omnibus):</th> <td> 0.023</td> <th>  Jarque-Bera (JB):  </th> <td>   6.575</td>\n",
       "</tr>\n",
       "<tr>\n",
       "  <th>Skew:</th>          <td> 0.924</td> <th>  Prob(JB):          </th> <td>  0.0373</td>\n",
       "</tr>\n",
       "<tr>\n",
       "  <th>Kurtosis:</th>      <td> 3.502</td> <th>  Cond. No.          </th> <td>4.74e+03</td>\n",
       "</tr>\n",
       "</table>"
      ],
      "text/plain": [
       "<class 'statsmodels.iolib.summary.Summary'>\n",
       "\"\"\"\n",
       "                            OLS Regression Results                            \n",
       "==============================================================================\n",
       "Dep. Variable:                      y   R-squared:                       0.206\n",
       "Model:                            OLS   Adj. R-squared:                  0.123\n",
       "Method:                 Least Squares   F-statistic:                     2.471\n",
       "Date:                Thu, 02 Mar 2017   Prob (F-statistic):             0.0609\n",
       "Time:                        14:19:10   Log-Likelihood:                -131.31\n",
       "No. Observations:                  43   AIC:                             272.6\n",
       "Df Residuals:                      38   BIC:                             281.4\n",
       "Df Model:                           4                                         \n",
       "Covariance Type:            nonrobust                                         \n",
       "==============================================================================\n",
       "                 coef    std err          t      P>|t|      [95.0% Conf. Int.]\n",
       "------------------------------------------------------------------------------\n",
       "const          7.6670     16.916      0.453      0.653       -26.577    41.911\n",
       "x1            -4.3364      4.133     -1.049      0.301       -12.704     4.031\n",
       "x2             0.0166      0.068      0.244      0.808        -0.121     0.155\n",
       "x3            53.8097     18.505      2.908      0.006        16.349    91.270\n",
       "x4             6.6614      8.788      0.758      0.453       -11.129    24.451\n",
       "==============================================================================\n",
       "Omnibus:                        7.548   Durbin-Watson:                   2.366\n",
       "Prob(Omnibus):                  0.023   Jarque-Bera (JB):                6.575\n",
       "Skew:                           0.924   Prob(JB):                       0.0373\n",
       "Kurtosis:                       3.502   Cond. No.                     4.74e+03\n",
       "==============================================================================\n",
       "\n",
       "Warnings:\n",
       "[1] Standard Errors assume that the covariance matrix of the errors is correctly specified.\n",
       "[2] The condition number is large, 4.74e+03. This might indicate that there are\n",
       "strong multicollinearity or other numerical problems.\n",
       "\"\"\""
      ]
     },
     "execution_count": 25,
     "metadata": {},
     "output_type": "execute_result"
    }
   ],
   "source": [
    "result = sm.OLS( y_train, add_constant(X_train) ).fit()\n",
    "result.summary() "
   ]
  },
  {
   "cell_type": "markdown",
   "metadata": {},
   "source": [
    "La tercera variable es la única significativa."
   ]
  },
  {
   "cell_type": "code",
   "execution_count": 26,
   "metadata": {
    "collapsed": false
   },
   "outputs": [
    {
     "data": {
      "text/html": [
       "<table class=\"simpletable\">\n",
       "<caption>OLS Regression Results</caption>\n",
       "<tr>\n",
       "  <th>Dep. Variable:</th>            <td>y</td>        <th>  R-squared:         </th> <td>   0.133</td>\n",
       "</tr>\n",
       "<tr>\n",
       "  <th>Model:</th>                   <td>OLS</td>       <th>  Adj. R-squared:    </th> <td>   0.112</td>\n",
       "</tr>\n",
       "<tr>\n",
       "  <th>Method:</th>             <td>Least Squares</td>  <th>  F-statistic:       </th> <td>   6.290</td>\n",
       "</tr>\n",
       "<tr>\n",
       "  <th>Date:</th>             <td>Thu, 02 Mar 2017</td> <th>  Prob (F-statistic):</th>  <td>0.0162</td> \n",
       "</tr>\n",
       "<tr>\n",
       "  <th>Time:</th>                 <td>14:23:44</td>     <th>  Log-Likelihood:    </th> <td> -133.21</td>\n",
       "</tr>\n",
       "<tr>\n",
       "  <th>No. Observations:</th>      <td>    43</td>      <th>  AIC:               </th> <td>   270.4</td>\n",
       "</tr>\n",
       "<tr>\n",
       "  <th>Df Residuals:</th>          <td>    41</td>      <th>  BIC:               </th> <td>   273.9</td>\n",
       "</tr>\n",
       "<tr>\n",
       "  <th>Df Model:</th>              <td>     1</td>      <th>                     </th>     <td> </td>   \n",
       "</tr>\n",
       "<tr>\n",
       "  <th>Covariance Type:</th>      <td>nonrobust</td>    <th>                     </th>     <td> </td>   \n",
       "</tr>\n",
       "</table>\n",
       "<table class=\"simpletable\">\n",
       "<tr>\n",
       "    <td></td>       <th>coef</th>     <th>std err</th>      <th>t</th>      <th>P>|t|</th> <th>[95.0% Conf. Int.]</th> \n",
       "</tr>\n",
       "<tr>\n",
       "  <th>const</th> <td>   -6.0298</td> <td>    7.284</td> <td>   -0.828</td> <td> 0.413</td> <td>  -20.741     8.681</td>\n",
       "</tr>\n",
       "<tr>\n",
       "  <th>x1</th>    <td>   39.9213</td> <td>   15.917</td> <td>    2.508</td> <td> 0.016</td> <td>    7.776    72.067</td>\n",
       "</tr>\n",
       "</table>\n",
       "<table class=\"simpletable\">\n",
       "<tr>\n",
       "  <th>Omnibus:</th>       <td> 7.623</td> <th>  Durbin-Watson:     </th> <td>   2.501</td>\n",
       "</tr>\n",
       "<tr>\n",
       "  <th>Prob(Omnibus):</th> <td> 0.022</td> <th>  Jarque-Bera (JB):  </th> <td>   6.544</td>\n",
       "</tr>\n",
       "<tr>\n",
       "  <th>Skew:</th>          <td> 0.904</td> <th>  Prob(JB):          </th> <td>  0.0379</td>\n",
       "</tr>\n",
       "<tr>\n",
       "  <th>Kurtosis:</th>      <td> 3.617</td> <th>  Cond. No.          </th> <td>    23.0</td>\n",
       "</tr>\n",
       "</table>"
      ],
      "text/plain": [
       "<class 'statsmodels.iolib.summary.Summary'>\n",
       "\"\"\"\n",
       "                            OLS Regression Results                            \n",
       "==============================================================================\n",
       "Dep. Variable:                      y   R-squared:                       0.133\n",
       "Model:                            OLS   Adj. R-squared:                  0.112\n",
       "Method:                 Least Squares   F-statistic:                     6.290\n",
       "Date:                Thu, 02 Mar 2017   Prob (F-statistic):             0.0162\n",
       "Time:                        14:23:44   Log-Likelihood:                -133.21\n",
       "No. Observations:                  43   AIC:                             270.4\n",
       "Df Residuals:                      41   BIC:                             273.9\n",
       "Df Model:                           1                                         \n",
       "Covariance Type:            nonrobust                                         \n",
       "==============================================================================\n",
       "                 coef    std err          t      P>|t|      [95.0% Conf. Int.]\n",
       "------------------------------------------------------------------------------\n",
       "const         -6.0298      7.284     -0.828      0.413       -20.741     8.681\n",
       "x1            39.9213     15.917      2.508      0.016         7.776    72.067\n",
       "==============================================================================\n",
       "Omnibus:                        7.623   Durbin-Watson:                   2.501\n",
       "Prob(Omnibus):                  0.022   Jarque-Bera (JB):                6.544\n",
       "Skew:                           0.904   Prob(JB):                       0.0379\n",
       "Kurtosis:                       3.617   Cond. No.                         23.0\n",
       "==============================================================================\n",
       "\n",
       "Warnings:\n",
       "[1] Standard Errors assume that the covariance matrix of the errors is correctly specified.\n",
       "\"\"\""
      ]
     },
     "execution_count": 26,
     "metadata": {},
     "output_type": "execute_result"
    }
   ],
   "source": [
    "result_alternate = sm.OLS( y_train, add_constant(X_train[:,2]) ).fit()\n",
    "result_alternate.summary()"
   ]
  },
  {
   "cell_type": "markdown",
   "metadata": {},
   "source": [
    "Usemos la data de test para probar el modelo."
   ]
  },
  {
   "cell_type": "code",
   "execution_count": 29,
   "metadata": {
    "collapsed": false
   },
   "outputs": [
    {
     "name": "stdout",
     "output_type": "stream",
     "text": [
      "29.2290149042\n",
      "36.5032567682\n"
     ]
    }
   ],
   "source": [
    "ypred = result.predict(add_constant(X_valid))\n",
    "print (mse(ypred,y_valid))\n",
    "\n",
    "ypred_alternate = result_alternate.predict(add_constant(X_valid[:, 2]))\n",
    "print (mse(ypred_alternate,y_valid))\n"
   ]
  },
  {
   "cell_type": "markdown",
   "metadata": {},
   "source": [
    "Lets see the actual vs predicted for the 1st model"
   ]
  },
  {
   "cell_type": "code",
   "execution_count": 30,
   "metadata": {
    "collapsed": false
   },
   "outputs": [
    {
     "data": {
      "image/png": "[encoded data removed]",
      "text/plain": [
       "<matplotlib.figure.Figure at 0xd14b7f0>"
      ]
     },
     "metadata": {},
     "output_type": "display_data"
    }
   ],
   "source": [
    "fig, ax = plt.subplots(1, 1)  \n",
    "ax.scatter(y_valid, ypred)\n",
    "ax.set_xlabel('Actual')\n",
    "ax.set_ylabel('Predicted')\n",
    "plt.show()"
   ]
  },
  {
   "cell_type": "markdown",
   "metadata": {},
   "source": [
    "Usando el nuevo modelo"
   ]
  },
  {
   "cell_type": "code",
   "execution_count": 31,
   "metadata": {
    "collapsed": false
   },
   "outputs": [
    {
     "data": {
      "image/png": "[encoded data removed]",
      "text/plain": [
       "<matplotlib.figure.Figure at 0xc4075c0>"
      ]
     },
     "metadata": {},
     "output_type": "display_data"
    }
   ],
   "source": [
    "fig, ax = plt.subplots(1, 1)  \n",
    "ax.scatter(y_valid, ypred_alternate)\n",
    "ax.set_xlabel('Actual')\n",
    "ax.set_ylabel('Predicted')\n",
    "plt.show()"
   ]
  },
  {
   "cell_type": "code",
   "execution_count": 33,
   "metadata": {
    "collapsed": false
   },
   "outputs": [
    {
     "data": {
      "text/plain": [
       "<zip at 0xbee6388>"
      ]
     },
     "execution_count": 33,
     "metadata": {},
     "output_type": "execute_result"
    }
   ],
   "source": [
    "zip(b_data.columns,lm.coef_)"
   ]
  },
  {
   "cell_type": "code",
   "execution_count": 36,
   "metadata": {
    "collapsed": false
   },
   "outputs": [
    {
     "name": "stdout",
     "output_type": "stream",
     "text": [
      "Intercept is 7.66701454289\n",
      "\n",
      "Los coeficientes [ -4.33640739e+00   1.66494634e-02   5.38097070e+01   6.66144724e+00]\n",
      "\n"
     ]
    },
    {
     "data": {
      "text/plain": [
       "Index(['height', 'weight', 'success_field_goals', 'success_free_throws',\n",
       "       'avg_points_scored'],\n",
       "      dtype='object')"
      ]
     },
     "execution_count": 36,
     "metadata": {},
     "output_type": "execute_result"
    }
   ],
   "source": [
    "# Create linear regression object\n",
    "lm = linear_model.LinearRegression()\n",
    "\n",
    "# Train the model using the training sets\n",
    "lm.fit(X_train, y_train)\n",
    "\n",
    "print ('Intercept is ' + str(lm.intercept_) + '\\n')\n",
    "print ('Los coeficientes ' + str(lm.coef_) + '\\n')\n",
    "\n",
    "b_data.columns\n",
    "\n",
    "#pd.DataFrame(zip(b_data.columns,lm.coef_), columns = ['features', 'estimatedCoefficients'])"
   ]
  },
  {
   "cell_type": "markdown",
   "metadata": {},
   "source": [
    "Lets see how is the R square"
   ]
  },
  {
   "cell_type": "code",
   "execution_count": 38,
   "metadata": {
    "collapsed": false
   },
   "outputs": [
    {
     "data": {
      "text/plain": [
       "array([ 0.14309334, -0.24916927, -0.19736716])"
      ]
     },
     "execution_count": 38,
     "metadata": {},
     "output_type": "execute_result"
    }
   ],
   "source": [
    "cross_validation.cross_val_score(lm, X_train, y_train, scoring='r2')"
   ]
  },
  {
   "cell_type": "markdown",
   "metadata": {},
   "source": [
    "Lets predict the on the test data"
   ]
  },
  {
   "cell_type": "code",
   "execution_count": 40,
   "metadata": {
    "collapsed": false
   },
   "outputs": [
    {
     "data": {
      "text/plain": [
       "29.22901490421258"
      ]
     },
     "execution_count": 40,
     "metadata": {},
     "output_type": "execute_result"
    }
   ],
   "source": [
    "ypred = lm.predict(X_valid)\n",
    "\n",
    "mean_squared_error(ypred,y_valid)"
   ]
  },
  {
   "cell_type": "markdown",
   "metadata": {},
   "source": [
    "Plotting the predicted vs the actual"
   ]
  },
  {
   "cell_type": "code",
   "execution_count": 41,
   "metadata": {
    "collapsed": false
   },
   "outputs": [
    {
     "data": {
      "image/png": "[encoded data removed]",
      "text/plain": [
       "<matplotlib.figure.Figure at 0xbf00080>"
      ]
     },
     "metadata": {},
     "output_type": "display_data"
    }
   ],
   "source": [
    "fig, ax = plt.subplots(1, 1)  \n",
    "ax.scatter(y_valid, ypred)\n",
    "ax.set_xlabel('Actual')\n",
    "ax.set_ylabel('Predicted')\n",
    "plt.show()"
   ]
  },
  {
   "cell_type": "code",
   "execution_count": null,
   "metadata": {
    "collapsed": true
   },
   "outputs": [],
   "source": []
  }
 ],
 "metadata": {
  "anaconda-cloud": {},
  "kernelspec": {
   "display_name": "Python [default]",
   "language": "python",
   "name": "python3"
  },
  "language_info": {
   "codemirror_mode": {
    "name": "ipython",
    "version": 3
   },
   "file_extension": ".py",
   "mimetype": "text/x-python",
   "name": "python",
   "nbconvert_exporter": "python",
   "pygments_lexer": "ipython3",
   "version": "3.5.2"
  }
 },
 "nbformat": 4,
 "nbformat_minor": 0
}
